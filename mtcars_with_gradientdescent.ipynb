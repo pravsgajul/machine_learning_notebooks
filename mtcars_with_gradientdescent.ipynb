{
 "cells": [
  {
   "cell_type": "code",
   "execution_count": 1,
   "id": "94928686",
   "metadata": {},
   "outputs": [],
   "source": [
    "import pandas as pd\n",
    "import numpy as np\n",
    "import matplotlib.pyplot as plt\n",
    "from sklearn.metrics import mean_squared_error"
   ]
  },
  {
   "cell_type": "code",
   "execution_count": 2,
   "id": "02a82c57",
   "metadata": {},
   "outputs": [
    {
     "data": {
      "text/html": [
       "<div>\n",
       "<style scoped>\n",
       "    .dataframe tbody tr th:only-of-type {\n",
       "        vertical-align: middle;\n",
       "    }\n",
       "\n",
       "    .dataframe tbody tr th {\n",
       "        vertical-align: top;\n",
       "    }\n",
       "\n",
       "    .dataframe thead th {\n",
       "        text-align: right;\n",
       "    }\n",
       "</style>\n",
       "<table border=\"1\" class=\"dataframe\">\n",
       "  <thead>\n",
       "    <tr style=\"text-align: right;\">\n",
       "      <th></th>\n",
       "      <th>model</th>\n",
       "      <th>mpg</th>\n",
       "      <th>cyl</th>\n",
       "      <th>disp</th>\n",
       "      <th>hp</th>\n",
       "      <th>drat</th>\n",
       "      <th>wt</th>\n",
       "      <th>qsec</th>\n",
       "      <th>vs</th>\n",
       "      <th>am</th>\n",
       "      <th>gear</th>\n",
       "      <th>carb</th>\n",
       "    </tr>\n",
       "  </thead>\n",
       "  <tbody>\n",
       "    <tr>\n",
       "      <th>0</th>\n",
       "      <td>Mazda RX4</td>\n",
       "      <td>21.0</td>\n",
       "      <td>6</td>\n",
       "      <td>160.0</td>\n",
       "      <td>110</td>\n",
       "      <td>3.90</td>\n",
       "      <td>2.620</td>\n",
       "      <td>16.46</td>\n",
       "      <td>0</td>\n",
       "      <td>1</td>\n",
       "      <td>4</td>\n",
       "      <td>4</td>\n",
       "    </tr>\n",
       "    <tr>\n",
       "      <th>1</th>\n",
       "      <td>Mazda RX4 Wag</td>\n",
       "      <td>21.0</td>\n",
       "      <td>6</td>\n",
       "      <td>160.0</td>\n",
       "      <td>110</td>\n",
       "      <td>3.90</td>\n",
       "      <td>2.875</td>\n",
       "      <td>17.02</td>\n",
       "      <td>0</td>\n",
       "      <td>1</td>\n",
       "      <td>4</td>\n",
       "      <td>4</td>\n",
       "    </tr>\n",
       "    <tr>\n",
       "      <th>2</th>\n",
       "      <td>Datsun 710</td>\n",
       "      <td>22.8</td>\n",
       "      <td>4</td>\n",
       "      <td>108.0</td>\n",
       "      <td>93</td>\n",
       "      <td>3.85</td>\n",
       "      <td>2.320</td>\n",
       "      <td>18.61</td>\n",
       "      <td>1</td>\n",
       "      <td>1</td>\n",
       "      <td>4</td>\n",
       "      <td>1</td>\n",
       "    </tr>\n",
       "    <tr>\n",
       "      <th>3</th>\n",
       "      <td>Hornet 4 Drive</td>\n",
       "      <td>21.4</td>\n",
       "      <td>6</td>\n",
       "      <td>258.0</td>\n",
       "      <td>110</td>\n",
       "      <td>3.08</td>\n",
       "      <td>3.215</td>\n",
       "      <td>19.44</td>\n",
       "      <td>1</td>\n",
       "      <td>0</td>\n",
       "      <td>3</td>\n",
       "      <td>1</td>\n",
       "    </tr>\n",
       "    <tr>\n",
       "      <th>4</th>\n",
       "      <td>Hornet Sportabout</td>\n",
       "      <td>18.7</td>\n",
       "      <td>8</td>\n",
       "      <td>360.0</td>\n",
       "      <td>175</td>\n",
       "      <td>3.15</td>\n",
       "      <td>3.440</td>\n",
       "      <td>17.02</td>\n",
       "      <td>0</td>\n",
       "      <td>0</td>\n",
       "      <td>3</td>\n",
       "      <td>2</td>\n",
       "    </tr>\n",
       "  </tbody>\n",
       "</table>\n",
       "</div>"
      ],
      "text/plain": [
       "               model   mpg  cyl   disp   hp  drat     wt   qsec  vs  am  gear  \\\n",
       "0          Mazda RX4  21.0    6  160.0  110  3.90  2.620  16.46   0   1     4   \n",
       "1      Mazda RX4 Wag  21.0    6  160.0  110  3.90  2.875  17.02   0   1     4   \n",
       "2         Datsun 710  22.8    4  108.0   93  3.85  2.320  18.61   1   1     4   \n",
       "3     Hornet 4 Drive  21.4    6  258.0  110  3.08  3.215  19.44   1   0     3   \n",
       "4  Hornet Sportabout  18.7    8  360.0  175  3.15  3.440  17.02   0   0     3   \n",
       "\n",
       "   carb  \n",
       "0     4  \n",
       "1     4  \n",
       "2     1  \n",
       "3     1  \n",
       "4     2  "
      ]
     },
     "execution_count": 2,
     "metadata": {},
     "output_type": "execute_result"
    }
   ],
   "source": [
    "df = pd.read_csv('mtcars.csv')\n",
    "df.head()"
   ]
  },
  {
   "cell_type": "code",
   "execution_count": 3,
   "id": "b61379a7",
   "metadata": {},
   "outputs": [],
   "source": [
    "df = df.filter(['mpg', 'wt'])"
   ]
  },
  {
   "cell_type": "code",
   "execution_count": 4,
   "id": "55e00f90",
   "metadata": {},
   "outputs": [
    {
     "data": {
      "text/html": [
       "<div>\n",
       "<style scoped>\n",
       "    .dataframe tbody tr th:only-of-type {\n",
       "        vertical-align: middle;\n",
       "    }\n",
       "\n",
       "    .dataframe tbody tr th {\n",
       "        vertical-align: top;\n",
       "    }\n",
       "\n",
       "    .dataframe thead th {\n",
       "        text-align: right;\n",
       "    }\n",
       "</style>\n",
       "<table border=\"1\" class=\"dataframe\">\n",
       "  <thead>\n",
       "    <tr style=\"text-align: right;\">\n",
       "      <th></th>\n",
       "      <th>mpg</th>\n",
       "      <th>wt</th>\n",
       "    </tr>\n",
       "  </thead>\n",
       "  <tbody>\n",
       "    <tr>\n",
       "      <th>0</th>\n",
       "      <td>21.0</td>\n",
       "      <td>2.620</td>\n",
       "    </tr>\n",
       "    <tr>\n",
       "      <th>1</th>\n",
       "      <td>21.0</td>\n",
       "      <td>2.875</td>\n",
       "    </tr>\n",
       "    <tr>\n",
       "      <th>2</th>\n",
       "      <td>22.8</td>\n",
       "      <td>2.320</td>\n",
       "    </tr>\n",
       "    <tr>\n",
       "      <th>3</th>\n",
       "      <td>21.4</td>\n",
       "      <td>3.215</td>\n",
       "    </tr>\n",
       "    <tr>\n",
       "      <th>4</th>\n",
       "      <td>18.7</td>\n",
       "      <td>3.440</td>\n",
       "    </tr>\n",
       "  </tbody>\n",
       "</table>\n",
       "</div>"
      ],
      "text/plain": [
       "    mpg     wt\n",
       "0  21.0  2.620\n",
       "1  21.0  2.875\n",
       "2  22.8  2.320\n",
       "3  21.4  3.215\n",
       "4  18.7  3.440"
      ]
     },
     "execution_count": 4,
     "metadata": {},
     "output_type": "execute_result"
    }
   ],
   "source": [
    "df.head()"
   ]
  },
  {
   "cell_type": "code",
   "execution_count": 5,
   "id": "0e2dcca1",
   "metadata": {},
   "outputs": [],
   "source": [
    "y = df['mpg']\n",
    "x = df['wt']"
   ]
  },
  {
   "cell_type": "code",
   "execution_count": 6,
   "id": "f72a16cf",
   "metadata": {},
   "outputs": [
    {
     "data": {
      "text/plain": [
       "(32,)"
      ]
     },
     "execution_count": 6,
     "metadata": {},
     "output_type": "execute_result"
    }
   ],
   "source": [
    "x.shape"
   ]
  },
  {
   "cell_type": "markdown",
   "id": "b9499ea0",
   "metadata": {},
   "source": [
    "#### Q1"
   ]
  },
  {
   "cell_type": "code",
   "execution_count": 7,
   "id": "9cf2abad",
   "metadata": {},
   "outputs": [],
   "source": [
    "def myFnLinReg(x,y):\n",
    "    costs = []\n",
    "    m = len(y)\n",
    "    alpha = 0.1\n",
    "    epoch = 1000\n",
    "    w = 0\n",
    "    b = 0\n",
    "\n",
    "    for _ in range(epoch):\n",
    "        h0 = np.dot(x, w) + b\n",
    "        cost = np.mean((y-h0)**2)\n",
    "        \n",
    "        dw = (1/m)*np.dot(x.T, (h0 - y))\n",
    "        db = (1/m)*np.sum((h0 - y))\n",
    "        \n",
    "        w = w - alpha * dw\n",
    "        b = b - alpha * db        \n",
    "        \n",
    "        costs.append(cost)\n",
    "        \n",
    "    return costs, w, b, cost"
   ]
  },
  {
   "cell_type": "markdown",
   "id": "c195e60b",
   "metadata": {},
   "source": [
    "#### Q2"
   ]
  },
  {
   "cell_type": "code",
   "execution_count": 8,
   "id": "94b52d7d",
   "metadata": {},
   "outputs": [],
   "source": [
    "x_train = x[:25]\n",
    "y_train = y[:25]\n",
    "x_test = x[25:]\n",
    "y_test = y[25:]"
   ]
  },
  {
   "cell_type": "code",
   "execution_count": 9,
   "id": "f80089d4",
   "metadata": {},
   "outputs": [],
   "source": [
    "costs, w, b, c = myFnLinReg(x_train, y_train)"
   ]
  },
  {
   "cell_type": "code",
   "execution_count": 10,
   "id": "217d320b",
   "metadata": {},
   "outputs": [
    {
     "data": {
      "text/plain": [
       "-5.3301386451515445"
      ]
     },
     "execution_count": 10,
     "metadata": {},
     "output_type": "execute_result"
    }
   ],
   "source": [
    "w"
   ]
  },
  {
   "cell_type": "code",
   "execution_count": 11,
   "id": "620f84e6",
   "metadata": {},
   "outputs": [
    {
     "data": {
      "text/plain": [
       "37.6274002459753"
      ]
     },
     "execution_count": 11,
     "metadata": {},
     "output_type": "execute_result"
    }
   ],
   "source": [
    "b"
   ]
  },
  {
   "cell_type": "code",
   "execution_count": 12,
   "id": "0843790c",
   "metadata": {},
   "outputs": [],
   "source": [
    "def predict(x, w, b):\n",
    "    h0 = np.dot(x, w) + b\n",
    "    return h0"
   ]
  },
  {
   "cell_type": "code",
   "execution_count": 13,
   "id": "380c0482",
   "metadata": {},
   "outputs": [
    {
     "data": {
      "text/plain": [
       "array([27.31358197, 26.22090355, 29.56290048, 20.73086074, 22.8629162 ,\n",
       "       18.59880528, 22.80961481])"
      ]
     },
     "execution_count": 13,
     "metadata": {},
     "output_type": "execute_result"
    }
   ],
   "source": [
    "h_ = predict(x_test, w, b)\n",
    "h_"
   ]
  },
  {
   "cell_type": "code",
   "execution_count": 14,
   "id": "84549c50",
   "metadata": {},
   "outputs": [
    {
     "data": {
      "text/plain": [
       "25    27.3\n",
       "26    26.0\n",
       "27    30.4\n",
       "28    15.8\n",
       "29    19.7\n",
       "30    15.0\n",
       "31    21.4\n",
       "Name: mpg, dtype: float64"
      ]
     },
     "execution_count": 14,
     "metadata": {},
     "output_type": "execute_result"
    }
   ],
   "source": [
    "y_test"
   ]
  },
  {
   "cell_type": "code",
   "execution_count": 15,
   "id": "e5d72698",
   "metadata": {},
   "outputs": [
    {
     "data": {
      "text/plain": [
       "Text(0, 0.5, 'mpg')"
      ]
     },
     "execution_count": 15,
     "metadata": {},
     "output_type": "execute_result"
    },
    {
     "data": {
      "image/png": "[encoded data removed]",
      "text/plain": [
       "<Figure size 432x288 with 1 Axes>"
      ]
     },
     "metadata": {
      "needs_background": "light"
     },
     "output_type": "display_data"
    }
   ],
   "source": [
    "plt.scatter(x_test, y_test)\n",
    "plt.plot(x_test, h_, c = 'red')\n",
    "plt.xlabel('wt')\n",
    "plt.ylabel('mpg')"
   ]
  },
  {
   "cell_type": "code",
   "execution_count": 16,
   "id": "e5731e4b",
   "metadata": {},
   "outputs": [
    {
     "data": {
      "text/plain": [
       "Text(0, 0.5, 'Cost')"
      ]
     },
     "execution_count": 16,
     "metadata": {},
     "output_type": "execute_result"
    },
    {
     "data": {
      "image/png": "[encoded data removed]",
      "text/plain": [
       "<Figure size 432x288 with 1 Axes>"
      ]
     },
     "metadata": {
      "needs_background": "light"
     },
     "output_type": "display_data"
    }
   ],
   "source": [
    "plt.plot(costs)\n",
    "plt.xlabel('Iterations')\n",
    "plt.ylabel('Cost')"
   ]
  },
  {
   "cell_type": "markdown",
   "id": "a1472313",
   "metadata": {},
   "source": [
    "#### Q3"
   ]
  },
  {
   "cell_type": "code",
   "execution_count": 17,
   "id": "a9f3d792",
   "metadata": {},
   "outputs": [
    {
     "data": {
      "text/plain": [
       "8.311637697641807"
      ]
     },
     "execution_count": 17,
     "metadata": {},
     "output_type": "execute_result"
    }
   ],
   "source": [
    "d = predict(5.5, w, b)\n",
    "d"
   ]
  },
  {
   "cell_type": "markdown",
   "id": "2c8a89db",
   "metadata": {},
   "source": [
    "#### Q4"
   ]
  },
  {
   "cell_type": "code",
   "execution_count": 18,
   "id": "63621734",
   "metadata": {},
   "outputs": [],
   "source": [
    "def RMSE(y_test, h_):\n",
    "    m = len(y_test)\n",
    "    rm = sum(h_ - y_test)**2 / m\n",
    "    se = np.sqrt(rm)\n",
    "    return se"
   ]
  },
  {
   "cell_type": "code",
   "execution_count": 19,
   "id": "611d8278",
   "metadata": {},
   "outputs": [
    {
     "data": {
      "text/plain": [
       "4.7243983104286"
      ]
     },
     "execution_count": 19,
     "metadata": {},
     "output_type": "execute_result"
    }
   ],
   "source": [
    "RMSE(y_test, h_)"
   ]
  },
  {
   "cell_type": "code",
   "execution_count": 20,
   "id": "b07f61fe",
   "metadata": {},
   "outputs": [],
   "source": [
    "def R2(y, y_pred):\n",
    "    error = y - y_pred\n",
    "    se = np.sum(error**2)\n",
    "    SSt = np.sum((y - np.mean(y))**2)\n",
    "    R2 = 1- (se/SSt)\n",
    "    return R2"
   ]
  },
  {
   "cell_type": "code",
   "execution_count": 21,
   "id": "5a88fbb5",
   "metadata": {},
   "outputs": [
    {
     "data": {
      "text/plain": [
       "0.7588632640876551"
      ]
     },
     "execution_count": 21,
     "metadata": {},
     "output_type": "execute_result"
    }
   ],
   "source": [
    "R2(y_test, h_)"
   ]
  },
  {
   "cell_type": "markdown",
   "id": "defbc8de",
   "metadata": {},
   "source": [
    "#### Q5"
   ]
  },
  {
   "cell_type": "markdown",
   "id": "0a9d6206",
   "metadata": {},
   "source": [
    "#### MGD"
   ]
  },
  {
   "cell_type": "code",
   "execution_count": 22,
   "id": "98297f67",
   "metadata": {},
   "outputs": [],
   "source": [
    "class mini_batch_gradient_descent:\n",
    "    \n",
    "    def create_batch(self,x_train,y_train,batch_size):\n",
    "        mini_batches=[]\n",
    "        data=np.stack((x_train,y_train),axis=1)\n",
    "        np.random.shuffle(data)\n",
    "        no_of_batches=x_train.shape[0]//batch_size\n",
    "        for i in range(no_of_batches):\n",
    "            mini_batch=data[i*batch_size:(i+1)*batch_size]\n",
    "            mini_batches.append((mini_batch[:,0],mini_batch[:,1]))\n",
    "        if x_train.shape[0]%batch_size!=0:\n",
    "            mini_batch=data[(i+1)*batch_size:]\n",
    "            mini_batches.append((mini_batch[:,0],mini_batch[:,1]))\n",
    "        return mini_batches\n",
    "    \n",
    "    def fit(self,x_train,y_train,alpha,epochs,batch_size):\n",
    "        self.m=np.random.randn(1,1)\n",
    "        self.c=np.random.randn(1,1)\n",
    "        l=len(x_train)\n",
    "        for i in range(epochs):\n",
    "            batches=self.create_batch(x_train,y_train,batch_size)\n",
    "            for batch in batches:\n",
    "                xb=batch[0]\n",
    "                yb=batch[1]\n",
    "                xb=xb.reshape(1,xb.shape[0])\n",
    "                intecept=np.sum((np.dot(self.m,xb)+self.c)-yb)\n",
    "                slope=np.sum(((np.dot(self.m,xb)+self.c)-yb)*xb)\n",
    "                self.m=self.m-alpha*(slope/l)\n",
    "                self.c=self.c-alpha*(intecept/l)\n",
    "    \n",
    "    def slope_intercept(self):\n",
    "        print(f\"slope: {self.m[0][0]}\")\n",
    "        print(f\"intecept: {self.c[0][0]}\")\n",
    "    \n",
    "    def predict(self,x_test):\n",
    "        x_test=x_test.values.reshape(x_test.shape[0],1)\n",
    "        self.m=self.m.reshape(self.m.shape[1],self.m.shape[0])\n",
    "        result=np.dot(x_test,self.m)+self.c\n",
    "        return result"
   ]
  },
  {
   "cell_type": "code",
   "execution_count": 23,
   "id": "e3bccadd",
   "metadata": {},
   "outputs": [],
   "source": [
    "mgd=mini_batch_gradient_descent()"
   ]
  },
  {
   "cell_type": "code",
   "execution_count": 24,
   "id": "04a03cbe",
   "metadata": {},
   "outputs": [],
   "source": [
    "mgd.fit(x_train,y_train,0.01,4000,4)"
   ]
  },
  {
   "cell_type": "code",
   "execution_count": 25,
   "id": "4fc5a085",
   "metadata": {},
   "outputs": [
    {
     "name": "stdout",
     "output_type": "stream",
     "text": [
      "slope: -4.668233466159432\n",
      "intecept: 35.21542448062483\n"
     ]
    }
   ],
   "source": [
    "mgd.slope_intercept()"
   ]
  },
  {
   "cell_type": "code",
   "execution_count": 26,
   "id": "2e242288",
   "metadata": {},
   "outputs": [],
   "source": [
    "y_pred=mgd.predict(x_test)"
   ]
  },
  {
   "cell_type": "code",
   "execution_count": 27,
   "id": "537f5658",
   "metadata": {},
   "outputs": [
    {
     "data": {
      "text/plain": [
       "<matplotlib.collections.PathCollection at 0x2917fe600a0>"
      ]
     },
     "execution_count": 27,
     "metadata": {},
     "output_type": "execute_result"
    },
    {
     "data": {
      "image/png": "[encoded data removed]",
      "text/plain": [
       "<Figure size 432x288 with 1 Axes>"
      ]
     },
     "metadata": {
      "needs_background": "light"
     },
     "output_type": "display_data"
    }
   ],
   "source": [
    "plt.plot(x_test, y_pred)\n",
    "plt.scatter(x,y)"
   ]
  },
  {
   "cell_type": "markdown",
   "id": "48fcc80d",
   "metadata": {},
   "source": [
    "#### SGD"
   ]
  },
  {
   "cell_type": "code",
   "execution_count": 28,
   "id": "9df55b58",
   "metadata": {},
   "outputs": [],
   "source": [
    "def SGD(X, y, lr=0.1, epoch=100, batch_size=1):\n",
    "    m, b = 0.5, 0.5\n",
    "    log, mse = [], []\n",
    "    \n",
    "    for _ in range(epoch):\n",
    "        \n",
    "        indexes = np.random.randint(0, len(X), batch_size)\n",
    "        \n",
    "        Xs = np.take(X, indexes)\n",
    "        ys = np.take(y, indexes)\n",
    "        N = len(Xs)\n",
    "        \n",
    "        f = ys - (m*Xs + b)\n",
    "        \n",
    "        m -= lr * (-2 * Xs.dot(f).sum() / N)\n",
    "        b -= lr * (-2 * f.sum() / N)\n",
    "        \n",
    "        log.append((m, b))\n",
    "        mse.append(mean_squared_error(y, m*X+b))        \n",
    "    \n",
    "    return m, b, log, mse"
   ]
  },
  {
   "cell_type": "code",
   "execution_count": 29,
   "id": "3e08121a",
   "metadata": {},
   "outputs": [],
   "source": [
    "m, b, log, mse = SGD(x_train, y_train, lr=0.01, epoch=100, batch_size=2)"
   ]
  },
  {
   "cell_type": "code",
   "execution_count": 30,
   "id": "b9ffd765",
   "metadata": {},
   "outputs": [],
   "source": [
    "def predict(x_test, m, b):\n",
    "    y_pred = x_test * m + b\n",
    "    return y_pred"
   ]
  },
  {
   "cell_type": "code",
   "execution_count": 31,
   "id": "96c490f7",
   "metadata": {},
   "outputs": [],
   "source": [
    "y_pred = predict(x_test, m, b)"
   ]
  }
 ],
 "metadata": {
  "kernelspec": {
   "display_name": "Python 3",
   "language": "python",
   "name": "python3"
  },
  "language_info": {
   "codemirror_mode": {
    "name": "ipython",
    "version": 3
   },
   "file_extension": ".py",
   "mimetype": "text/x-python",
   "name": "python",
   "nbconvert_exporter": "python",
   "pygments_lexer": "ipython3",
   "version": "3.8.8"
  }
 },
 "nbformat": 4,
 "nbformat_minor": 5
}
